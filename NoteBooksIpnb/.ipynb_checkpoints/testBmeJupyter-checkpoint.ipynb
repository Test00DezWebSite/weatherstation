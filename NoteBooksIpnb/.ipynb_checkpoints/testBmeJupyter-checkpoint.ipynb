{
 "cells": [
  {
   "cell_type": "markdown",
   "metadata": {},
   "source": [
    "# Mesurer avec un capteur Press-Hygro-Temp #\n",
    "\n",
    "Activité réalisée avec un capteur Adafruit BME280, une raspberry Pi3 fonctionnant avec une image Debian Stretch fournie par l'IFÉ ENS de Lyon, disposant des librairies INTEL mraa et upm.\n",
    "\n",
    "## Mesurer pui écrire la température en 5 lignes ##\n",
    "\n",
    " * Importer les outils nécessaires\n",
    " * Déclarer le nom du capteur qu'on va utiliser\n",
    " * Mettre à jour le capteur\n",
    " * Mesurer la température\n",
    " * Imprimer la température"
   ]
  },
  {
   "cell_type": "code",
   "execution_count": 13,
   "metadata": {
    "collapsed": false
   },
   "outputs": [
    {
     "name": "stdout",
     "output_type": "stream",
     "text": [
      "23.99 °C\n"
     ]
    }
   ],
   "source": [
    "import mraa, pyupm_bmp280\n",
    "bme = pyupm_bmp280.BME280(0)\n",
    "bme.update()\n",
    "tempBME = bme.getTemperature()\n",
    "print \"{0:.2f} °C\".format(tempBME)"
   ]
  },
  {
   "cell_type": "markdown",
   "metadata": {},
   "source": [
    "## Ajouter une _variable_ et utiliser toutes les capacités du capteur ##"
   ]
  },
  {
   "cell_type": "code",
   "execution_count": 8,
   "metadata": {
    "collapsed": false
   },
   "outputs": [
    {
     "name": "stdout",
     "output_type": "stream",
     "text": [
      "42.11 %\t\t24.31 °C\t998.77 hPa\n"
     ]
    }
   ],
   "source": [
    "import mraa\n",
    "import pyupm_bmp280\n",
    "bus1 = 0\n",
    "bme = pyupm_bmp280.BME280(bus1)\n",
    "bme.update()\n",
    "tempBME = bme.getTemperature()\n",
    "pressBME = bme.getPressure() / 100.0\n",
    "hygroBME = bme.getHumidity()\n",
    "print \"{0:.2f} %\\t\\t{1:.2f} °C\\t{2:.2f} hPa\".format(hygroBME,tempBME,pressBME)"
   ]
  },
  {
   "cell_type": "markdown",
   "metadata": {},
   "source": [
    "## Imprimer un commentaire (le nom des variables mesurées) ##"
   ]
  },
  {
   "cell_type": "code",
   "execution_count": 11,
   "metadata": {
    "collapsed": false
   },
   "outputs": [
    {
     "name": "stdout",
     "output_type": "stream",
     "text": [
      "Humidité : \tTempérature : \tPression :\n",
      "43.25 %\t\t24.13 °C\t998.74 hPa\n"
     ]
    }
   ],
   "source": [
    "import mraa\n",
    "import pyupm_bmp280\n",
    "bus1 = 0\n",
    "bme = pyupm_bmp280.BME280(bus1)\n",
    "bme.update()\n",
    "tempBME = bme.getTemperature()\n",
    "pressBME = bme.getPressure() / 100.0\n",
    "hygroBME = bme.getHumidity()\n",
    "print 'Humidité : \\tTempérature : \\tPression :'\n",
    "print \"{0:.2f} %\\t\\t{1:.2f} °C\\t{2:.2f} hPa\".format(hygroBME,tempBME,pressBME)"
   ]
  },
  {
   "cell_type": "markdown",
   "metadata": {},
   "source": [
    "## Ajouter une fonction pour calculer la pression au niveau de la mer ##\n",
    "\n",
    "La pression atmosphérique en un lieu dépend de son altitude. Pour pouvoir faire de la météorologie ou simplement comparer des mesures faites en différents endroits il faut partager une référence commune et le niveau de la mer est une solution simple et efficace. On convertit donc  notre mesure locale à la valeur qu'elle aurait  si nous étions au niveau de la mer. Il nous faut donc connaître notre altitude et importer des outils mathématiques."
   ]
  },
  {
   "cell_type": "code",
   "execution_count": 15,
   "metadata": {
    "collapsed": false
   },
   "outputs": [
    {
     "name": "stdout",
     "output_type": "stream",
     "text": [
      "Humidité : \tTempérature : \tPression : \tPression(mer) : \n",
      "42.65 %\t\t23.49 °C\t998.64 hPa\t1017.37 hPa\n"
     ]
    }
   ],
   "source": [
    "import mraa\n",
    "import pyupm_bmp280\n",
    "import math\n",
    "bus1 = 0\n",
    "bmeAddr = 0x77\n",
    "bme = pyupm_bmp280.BME280(bus1)\n",
    "localAlt = 156.5\n",
    "# Calcul de la pression au niveau de la mer\n",
    "def convertSeaLevel (m_Pressure):\n",
    "\ts_Pressure = m_Pressure / math.pow(1.0 - localAlt/44330, 5.255)\n",
    "\treturn s_Pressure\n",
    "# fin du calcul\n",
    "bme.update()\n",
    "tempBME = bme.getTemperature()\n",
    "pressBME = bme.getPressure() / 100.0\n",
    "hygroBME = bme.getHumidity()\n",
    "seaLevelPress = convertSeaLevel (pressBME)\n",
    "print 'Humidité : \\tTempérature : \\tPression : \\tPression(mer) : '\n",
    "print \"{0:.2f} %\\t\\t{1:.2f} °C\\t{2:.2f} hPa\\t{3:.2f} hPa\".format(hygroBME,tempBME,pressBME,seaLevelPress)"
   ]
  },
  {
   "cell_type": "markdown",
   "metadata": {},
   "source": [
    "## Faire une mesure toutes les 5 secondes ##"
   ]
  },
  {
   "cell_type": "code",
   "execution_count": 19,
   "metadata": {
    "collapsed": false
   },
   "outputs": [
    {
     "name": "stdout",
     "output_type": "stream",
     "text": [
      "Humidité : \tTempérature : \tPression : \tPression(mer) : \n",
      "43.61 %\t\t23.99 °C\t998.80 hPa\t1017.53 hPa\n",
      "43.00 %\t\t24.01 °C\t998.80 hPa\t1017.53 hPa\n",
      "42.80 %\t\t24.03 °C\t998.80 hPa\t1017.54 hPa\n"
     ]
    },
    {
     "ename": "KeyboardInterrupt",
     "evalue": "",
     "output_type": "error",
     "traceback": [
      "\u001b[0;31m---------------------------------------------------------------------------\u001b[0m",
      "\u001b[0;31mKeyboardInterrupt\u001b[0m                         Traceback (most recent call last)",
      "\u001b[0;32m<ipython-input-19-e2fc27d31340>\u001b[0m in \u001b[0;36m<module>\u001b[0;34m()\u001b[0m\n\u001b[1;32m     19\u001b[0m     \u001b[0mseaLevelPress\u001b[0m \u001b[0;34m=\u001b[0m \u001b[0mconvertSeaLevel\u001b[0m \u001b[0;34m(\u001b[0m\u001b[0mpressBME\u001b[0m\u001b[0;34m)\u001b[0m\u001b[0;34m\u001b[0m\u001b[0m\n\u001b[1;32m     20\u001b[0m     \u001b[0;32mprint\u001b[0m \u001b[0;34m\"{0:.2f} %\\t\\t{1:.2f} °C\\t{2:.2f} hPa\\t{3:.2f} hPa\"\u001b[0m\u001b[0;34m.\u001b[0m\u001b[0mformat\u001b[0m\u001b[0;34m(\u001b[0m\u001b[0mhygroBME\u001b[0m\u001b[0;34m,\u001b[0m\u001b[0mtempBME\u001b[0m\u001b[0;34m,\u001b[0m\u001b[0mpressBME\u001b[0m\u001b[0;34m,\u001b[0m\u001b[0mseaLevelPress\u001b[0m\u001b[0;34m)\u001b[0m\u001b[0;34m\u001b[0m\u001b[0m\n\u001b[0;32m---> 21\u001b[0;31m     \u001b[0mtime\u001b[0m\u001b[0;34m.\u001b[0m\u001b[0msleep\u001b[0m \u001b[0;34m(\u001b[0m\u001b[0;36m5\u001b[0m\u001b[0;34m)\u001b[0m\u001b[0;34m\u001b[0m\u001b[0m\n\u001b[0m",
      "\u001b[0;31mKeyboardInterrupt\u001b[0m: "
     ]
    }
   ],
   "source": [
    "import mraa\n",
    "import pyupm_bmp280\n",
    "import math,time\n",
    "bus1 = 0\n",
    "bmeAddr = 0x77\n",
    "bme = pyupm_bmp280.BME280(bus1)\n",
    "localAlt = 156.5\n",
    "# Calcul de la pression au niveau de la mer\n",
    "def convertSeaLevel (m_Pressure):\n",
    "\ts_Pressure = m_Pressure / math.pow(1.0 - localAlt/44330, 5.255)\n",
    "\treturn s_Pressure\n",
    "# fin du calcul\n",
    "print 'Humidité : \\tTempérature : \\tPression : \\tPression(mer) : '\n",
    "while True :\n",
    "    bme.update()\n",
    "    tempBME = bme.getTemperature()\n",
    "    pressBME = bme.getPressure() / 100.0\n",
    "    hygroBME = bme.getHumidity()\n",
    "    seaLevelPress = convertSeaLevel (pressBME)\n",
    "    print \"{0:.2f} %\\t\\t{1:.2f} °C\\t{2:.2f} hPa\\t{3:.2f} hPa\".format(hygroBME,tempBME,pressBME,seaLevelPress)\n",
    "    time.sleep (5)"
   ]
  }
 ],
 "metadata": {
  "kernelspec": {
   "display_name": "Python 3",
   "language": "python",
   "name": "python3"
  },
  "language_info": {
   "codemirror_mode": {
    "name": "ipython",
    "version": 3
   },
   "file_extension": ".py",
   "mimetype": "text/x-python",
   "name": "python",
   "nbconvert_exporter": "python",
   "pygments_lexer": "ipython3",
   "version": "3.5.2+"
  }
 },
 "nbformat": 4,
 "nbformat_minor": 1
}
